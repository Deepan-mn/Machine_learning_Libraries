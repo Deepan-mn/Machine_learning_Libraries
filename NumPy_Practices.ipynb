{
  "nbformat": 4,
  "nbformat_minor": 0,
  "metadata": {
    "colab": {
      "name": "NumPy_Practices.ipynb",
      "provenance": [],
      "collapsed_sections": [],
      "authorship_tag": "ABX9TyNQvrxQhv7zNTo5qSlrOFwE",
      "include_colab_link": true
    },
    "kernelspec": {
      "name": "python3",
      "display_name": "Python 3"
    },
    "language_info": {
      "name": "python"
    }
  },
  "cells": [
    {
      "cell_type": "markdown",
      "metadata": {
        "id": "view-in-github",
        "colab_type": "text"
      },
      "source": [
        "<a href=\"https://colab.research.google.com/github/Deepan-mn/Machine_learning_Libraries/blob/main/NumPy_Practices.ipynb\" target=\"_parent\"><img src=\"https://colab.research.google.com/assets/colab-badge.svg\" alt=\"Open In Colab\"/></a>"
      ]
    },
    {
      "cell_type": "markdown",
      "metadata": {
        "id": "bi6MR1eMK8lb"
      },
      "source": [
        "## NumPy <br>\n",
        "The NumPy (Numeric python) library is the core library for scientific computing \n",
        "in python. It provides a high-performance multidimensional array object, and tools for working with arrays"
      ]
    },
    {
      "cell_type": "markdown",
      "metadata": {
        "id": "4BWLOqTjMtqg"
      },
      "source": [
        "**Use the Following import convention**"
      ]
    },
    {
      "cell_type": "code",
      "metadata": {
        "id": "tPOKbQZWMXIz"
      },
      "source": [
        "import  numpy as np"
      ],
      "execution_count": 18,
      "outputs": []
    },
    {
      "cell_type": "markdown",
      "metadata": {
        "id": "c3sIdGT4NiUj"
      },
      "source": [
        "## Creating Arrays "
      ]
    },
    {
      "cell_type": "code",
      "metadata": {
        "colab": {
          "base_uri": "https://localhost:8080/"
        },
        "id": "sAluAXdQNmRS",
        "outputId": "6b117ac5-3279-4133-e047-9302b23e9579"
      },
      "source": [
        "a = np.array([1,2,3])  # one dimension array\n",
        "b = np.array([[1,2,3,],[4,5,6]])  # two dimesion array\n",
        "c = np.array([[1,2,3],[4,5,6],[7,8,9]],dtype=float)\n",
        "print(\"The one dimension arrray:\",a)\n",
        "print(\"The two dimension array:\",end='\\n')\n",
        "print(b)\n",
        "print(\"The Three dimension array with specified data type(float)\",end=\"\\n\")\n",
        "print(c)\n"
      ],
      "execution_count": null,
      "outputs": [
        {
          "output_type": "stream",
          "name": "stdout",
          "text": [
            "The one dimension arrray: [1 2 3]\n",
            "The two dimension array:\n",
            "[[1 2 3]\n",
            " [4 5 6]]\n",
            "The Three dimension array with specified data type(float)\n",
            "[[1. 2. 3.]\n",
            " [4. 5. 6.]\n",
            " [7. 8. 9.]]\n"
          ]
        }
      ]
    },
    {
      "cell_type": "markdown",
      "metadata": {
        "id": "iNIEs5IwPJok"
      },
      "source": [
        "## Initial Placeholders"
      ]
    },
    {
      "cell_type": "markdown",
      "metadata": {
        "id": "92LJbLXXPRL5"
      },
      "source": [
        "**Creating an array of zeros**"
      ]
    },
    {
      "cell_type": "code",
      "metadata": {
        "colab": {
          "base_uri": "https://localhost:8080/"
        },
        "id": "kCPjTbg4PVTF",
        "outputId": "ffa24a47-f4da-4b58-a249-78be878b5995"
      },
      "source": [
        "a = np.zeros((3,4),dtype=float)\n",
        "print(a)"
      ],
      "execution_count": null,
      "outputs": [
        {
          "output_type": "stream",
          "name": "stdout",
          "text": [
            "[[0. 0. 0. 0.]\n",
            " [0. 0. 0. 0.]\n",
            " [0. 0. 0. 0.]]\n"
          ]
        }
      ]
    },
    {
      "cell_type": "markdown",
      "metadata": {
        "id": "6lxtRjg8PpT3"
      },
      "source": [
        "**Creating an array of ones**"
      ]
    },
    {
      "cell_type": "code",
      "metadata": {
        "colab": {
          "base_uri": "https://localhost:8080/"
        },
        "id": "7FBz99kzPtbM",
        "outputId": "c7160465-c5b1-4944-9eb8-a4145ee8f098"
      },
      "source": [
        "a = np.ones((3,4),dtype=int)\n",
        "print(a)"
      ],
      "execution_count": null,
      "outputs": [
        {
          "output_type": "stream",
          "name": "stdout",
          "text": [
            "[[1 1 1 1]\n",
            " [1 1 1 1]\n",
            " [1 1 1 1]]\n"
          ]
        }
      ]
    },
    {
      "cell_type": "markdown",
      "metadata": {
        "id": "xWFqptCVQRDp"
      },
      "source": [
        "**Creating an array of evenly spaced values(step value)**"
      ]
    },
    {
      "cell_type": "code",
      "metadata": {
        "colab": {
          "base_uri": "https://localhost:8080/"
        },
        "id": "mcx7EsBgQCLA",
        "outputId": "621d96b0-51e3-450d-b888-fda54c6c51f9"
      },
      "source": [
        "a = np.arange(10,50,5) # 10 to <50 , increment by 5\n",
        "print(a)"
      ],
      "execution_count": null,
      "outputs": [
        {
          "output_type": "stream",
          "name": "stdout",
          "text": [
            "[10 15 20 25 30 35 40 45]\n"
          ]
        }
      ]
    },
    {
      "cell_type": "markdown",
      "metadata": {
        "id": "WcOVIZbhRGPe"
      },
      "source": [
        "**Creating an array of evenly spaced values(number of samples)**"
      ]
    },
    {
      "cell_type": "code",
      "metadata": {
        "id": "s_RtpHqNQ_0P",
        "colab": {
          "base_uri": "https://localhost:8080/"
        },
        "outputId": "838c8fc7-a437-4514-a00b-83d139c4ba0d"
      },
      "source": [
        "a = np.linspace(0,2,9) # 0 to 2 , equally divided by 9\n",
        "print(a)"
      ],
      "execution_count": null,
      "outputs": [
        {
          "output_type": "stream",
          "name": "stdout",
          "text": [
            "[0.   0.25 0.5  0.75 1.   1.25 1.5  1.75 2.  ]\n"
          ]
        }
      ]
    },
    {
      "cell_type": "markdown",
      "metadata": {
        "id": "1ByHAYpWiYpg"
      },
      "source": [
        "**Create a Constant array**"
      ]
    },
    {
      "cell_type": "code",
      "metadata": {
        "colab": {
          "base_uri": "https://localhost:8080/"
        },
        "id": "rHbK99HZh8lH",
        "outputId": "b09d894f-6358-41b3-d0a7-5bfb7d402d11"
      },
      "source": [
        "a = np.full((2,2),7)\n",
        "print(a)"
      ],
      "execution_count": null,
      "outputs": [
        {
          "output_type": "stream",
          "name": "stdout",
          "text": [
            "[[7 7]\n",
            " [7 7]]\n"
          ]
        }
      ]
    },
    {
      "cell_type": "markdown",
      "metadata": {
        "id": "bYrRFtuMirGK"
      },
      "source": [
        "**Create a Identity matrix**"
      ]
    },
    {
      "cell_type": "code",
      "metadata": {
        "colab": {
          "base_uri": "https://localhost:8080/"
        },
        "id": "P5OTxw6TinGr",
        "outputId": "c3126c06-70df-4d4b-c31a-9f9c9dc6393a"
      },
      "source": [
        "a = np.eye(4,4)\n",
        "print(a)"
      ],
      "execution_count": null,
      "outputs": [
        {
          "output_type": "stream",
          "name": "stdout",
          "text": [
            "[[1. 0. 0. 0.]\n",
            " [0. 1. 0. 0.]\n",
            " [0. 0. 1. 0.]\n",
            " [0. 0. 0. 1.]]\n"
          ]
        }
      ]
    },
    {
      "cell_type": "markdown",
      "metadata": {
        "id": "YL5D0I4Pi6IL"
      },
      "source": [
        "**Create an empty array with random values** "
      ]
    },
    {
      "cell_type": "code",
      "metadata": {
        "colab": {
          "base_uri": "https://localhost:8080/"
        },
        "id": "IeJSIKXRix7s",
        "outputId": "00d3294d-72d1-4f86-ec0d-b9d18c3a6be1"
      },
      "source": [
        "a = np.random.random((3,3))\n",
        "print(a)"
      ],
      "execution_count": null,
      "outputs": [
        {
          "output_type": "stream",
          "name": "stdout",
          "text": [
            "[[0.98720522 0.99518426 0.62825213]\n",
            " [0.79791066 0.53197438 0.36197143]\n",
            " [0.34247892 0.71572754 0.26441901]]\n"
          ]
        }
      ]
    },
    {
      "cell_type": "markdown",
      "metadata": {
        "id": "CeP8-ccwkKLh"
      },
      "source": [
        "**Create an empty array**"
      ]
    },
    {
      "cell_type": "code",
      "metadata": {
        "colab": {
          "base_uri": "https://localhost:8080/"
        },
        "id": "aCbsh_dSjBir",
        "outputId": "3e318262-061f-4e45-bf2a-4474f60d5643"
      },
      "source": [
        "a = np.empty((3,2))\n",
        "print(a)"
      ],
      "execution_count": null,
      "outputs": [
        {
          "output_type": "stream",
          "name": "stdout",
          "text": [
            "[[4.64595217e-310 0.00000000e+000]\n",
            " [0.00000000e+000 0.00000000e+000]\n",
            " [0.00000000e+000 0.00000000e+000]]\n"
          ]
        }
      ]
    },
    {
      "cell_type": "markdown",
      "metadata": {
        "id": "sM7DbUAxktZG"
      },
      "source": [
        "## Input / Output Handling in NumPy"
      ]
    },
    {
      "cell_type": "markdown",
      "metadata": {
        "id": "pi4NB7NSk2Vq"
      },
      "source": [
        "**Saving & Loading On Disk**"
      ]
    },
    {
      "cell_type": "code",
      "metadata": {
        "colab": {
          "base_uri": "https://localhost:8080/"
        },
        "id": "RmjRM0Jbk1K2",
        "outputId": "66578310-a97c-403f-a6dc-058d42e353d4"
      },
      "source": [
        "a = np.array([1,2,3])\n",
        "x = np.array([4,5,6])\n",
        "\n",
        "b = np.save('new_array',a) # to save a one numpy array to one file\n",
        "\n",
        "c =np.savez('array.npz',name1=a,name2=x) # to save a multiple numpy array to one file\n",
        "\n",
        "d =np.load('/content/new_array.npy')\n",
        "e =np.load('/content/array.npz')\n",
        "\n",
        "print(\"The loaded file :: save \",end='\\n')\n",
        "print(d)\n",
        "print(\"The loaded file :: savez \",end='\\n')\n",
        "print(e['name1'])\n",
        "print(e['name2'])"
      ],
      "execution_count": null,
      "outputs": [
        {
          "output_type": "stream",
          "name": "stdout",
          "text": [
            "The loaded file :: save \n",
            "[1 2 3]\n",
            "The loaded file :: savez \n",
            "[1 2 3]\n",
            "[4 5 6]\n"
          ]
        }
      ]
    },
    {
      "cell_type": "markdown",
      "metadata": {
        "id": "QCoYklCXoXT0"
      },
      "source": [
        "**Saving & Loading Text Files**"
      ]
    },
    {
      "cell_type": "code",
      "metadata": {
        "colab": {
          "base_uri": "https://localhost:8080/"
        },
        "id": "2Io_fCZ8lQR8",
        "outputId": "ae03debf-6a31-474e-a68a-285f180fffd7"
      },
      "source": [
        "x = np.loadtxt('/content/test_text',delimiter=\",\") # deals with unpacking the file\n",
        "y = np.genfromtxt('/content/test_text.csv',delimiter=\",\") # deals with missing values and filling values\n",
        "a = np.savetxt(\"new_text.txt\",x, delimiter=\" \")\n",
        "\n",
        "print(\"The loaded data ::test_text.txt\",end='\\n')\n",
        "print(x)\n",
        "print(\"The loaded data ::test_text.csv\",end='\\n')\n",
        "print(y)"
      ],
      "execution_count": null,
      "outputs": [
        {
          "output_type": "stream",
          "name": "stdout",
          "text": [
            "The loaded data ::test_text.txt\n",
            "[1. 2. 3.]\n",
            "The loaded data ::test_text.csv\n",
            "[1. 2. 3.]\n"
          ]
        }
      ]
    },
    {
      "cell_type": "markdown",
      "metadata": {
        "id": "ASzdBXY2s8zO"
      },
      "source": [
        "## Data Types"
      ]
    },
    {
      "cell_type": "code",
      "metadata": {
        "colab": {
          "base_uri": "https://localhost:8080/"
        },
        "id": "zmLvfDvVpe5h",
        "outputId": "ca8a1f8f-fde8-405f-d235-53d75a196f1d"
      },
      "source": [
        "np. int64     #  signed 64 bit integer types\n",
        "np.float32     #  Standard double-precision floating point\n",
        "np.complex     # Complex numbers represented by 128 floats\n",
        "np.bool        # Boolean type storing TRUE and FALSE values\n",
        "np.object      # Python object type\n",
        "np.string_      # Fixed-length string type\n",
        "np.unicode     # Fixed-length unicode type   "
      ],
      "execution_count": null,
      "outputs": [
        {
          "output_type": "execute_result",
          "data": {
            "text/plain": [
              "str"
            ]
          },
          "metadata": {},
          "execution_count": 55
        }
      ]
    },
    {
      "cell_type": "markdown",
      "metadata": {
        "id": "WwUaUJsHu65G"
      },
      "source": [
        "## Inspecting the Array"
      ]
    },
    {
      "cell_type": "markdown",
      "metadata": {
        "id": "805tIBjHEEXo"
      },
      "source": [
        "**Array Dimensions**"
      ]
    },
    {
      "cell_type": "code",
      "metadata": {
        "id": "-LwO8wtWu-Te",
        "colab": {
          "base_uri": "https://localhost:8080/"
        },
        "outputId": "deb21184-07fb-4bb2-d5e4-9a3201bdcd4e"
      },
      "source": [
        "a = np.array([[1,2,3,4,5,6],[7,8,9,10,11,12]])\n",
        "\n",
        "print(\"The shape of the array\",a.shape)"
      ],
      "execution_count": null,
      "outputs": [
        {
          "output_type": "stream",
          "name": "stdout",
          "text": [
            "The shape of the array (2, 6)\n"
          ]
        }
      ]
    },
    {
      "cell_type": "markdown",
      "metadata": {
        "id": "dt1wwmEnEhHl"
      },
      "source": [
        "**Length of array**"
      ]
    },
    {
      "cell_type": "code",
      "metadata": {
        "colab": {
          "base_uri": "https://localhost:8080/"
        },
        "id": "HC6bGyn9EN9S",
        "outputId": "74cb0649-396f-4e64-ae52-b1ff89c7c2cb"
      },
      "source": [
        "a = np.array([1,2,3,4,5,6])\n",
        "\n",
        "print(\"The length of array:\",len(a))"
      ],
      "execution_count": null,
      "outputs": [
        {
          "output_type": "stream",
          "name": "stdout",
          "text": [
            "The length of array: 6\n"
          ]
        }
      ]
    },
    {
      "cell_type": "markdown",
      "metadata": {
        "id": "tzxKkMiKE-HF"
      },
      "source": [
        "**Number of array dimensions**"
      ]
    },
    {
      "cell_type": "code",
      "metadata": {
        "colab": {
          "base_uri": "https://localhost:8080/"
        },
        "id": "9bV_1_o4E2Ma",
        "outputId": "fa47d2f3-897d-4031-efcc-57a59a361a20"
      },
      "source": [
        "a = np.array([[1,2,3,4,5,6],[7,8,9,10,11,12]])\n",
        "\n",
        "print(\"The dimension of array:\",a.ndim)"
      ],
      "execution_count": null,
      "outputs": [
        {
          "output_type": "stream",
          "name": "stdout",
          "text": [
            "The dimension of array: 2\n"
          ]
        }
      ]
    },
    {
      "cell_type": "markdown",
      "metadata": {
        "id": "sruMJ0isFzuR"
      },
      "source": [
        "**Number of array elements**"
      ]
    },
    {
      "cell_type": "code",
      "metadata": {
        "colab": {
          "base_uri": "https://localhost:8080/"
        },
        "id": "rQLa9cg2FMud",
        "outputId": "26a218b3-e2f6-486d-c34f-3b6258d55665"
      },
      "source": [
        "a = np.array([[1,2,3,4,5,6],[7,8,9,10,11,12]])\n",
        "\n",
        "print(\"The number of elements present:\",a.size)"
      ],
      "execution_count": null,
      "outputs": [
        {
          "output_type": "stream",
          "name": "stdout",
          "text": [
            "The number of elements present: 12\n"
          ]
        }
      ]
    },
    {
      "cell_type": "markdown",
      "metadata": {
        "id": "dv_Jc3LLGGzJ"
      },
      "source": [
        "**Data type of array elements**"
      ]
    },
    {
      "cell_type": "code",
      "metadata": {
        "colab": {
          "base_uri": "https://localhost:8080/"
        },
        "id": "X278IR_6GDq1",
        "outputId": "bd710973-f6fe-4e42-ef2b-01bce390851d"
      },
      "source": [
        "a = np.array([[1,2,3,4,5,6],[7,8,9,10,11,12]])\n",
        "\n",
        "print(\"The data type is :\",a.dtype)"
      ],
      "execution_count": null,
      "outputs": [
        {
          "output_type": "stream",
          "name": "stdout",
          "text": [
            "The data type is : int64\n"
          ]
        }
      ]
    },
    {
      "cell_type": "markdown",
      "metadata": {
        "id": "JD6kyDjhGahy"
      },
      "source": [
        "**Convert an array to different type**"
      ]
    },
    {
      "cell_type": "code",
      "metadata": {
        "colab": {
          "base_uri": "https://localhost:8080/"
        },
        "id": "khwyybDoGlne",
        "outputId": "0cfdd6a5-3418-4004-877b-982cd8a5fa0f"
      },
      "source": [
        "a = np.array([[1,2,3,4,5,6],[7,8,9,10,11,12]])\n",
        "\n",
        "a = a.astype(float)\n",
        "\n",
        "print(a)"
      ],
      "execution_count": null,
      "outputs": [
        {
          "output_type": "stream",
          "name": "stdout",
          "text": [
            "[[ 1.  2.  3.  4.  5.  6.]\n",
            " [ 7.  8.  9. 10. 11. 12.]]\n"
          ]
        }
      ]
    },
    {
      "cell_type": "markdown",
      "metadata": {
        "id": "-WoWJTm-HIGJ"
      },
      "source": [
        "## Array Mathematics"
      ]
    },
    {
      "cell_type": "markdown",
      "metadata": {
        "id": "PGLlpc9NJNHG"
      },
      "source": [
        "## Arithmetic Operations"
      ]
    },
    {
      "cell_type": "markdown",
      "metadata": {
        "id": "jjePXA-IK0bK"
      },
      "source": [
        "**Subtraction**"
      ]
    },
    {
      "cell_type": "code",
      "metadata": {
        "colab": {
          "base_uri": "https://localhost:8080/"
        },
        "id": "oV_9nAHrJQdN",
        "outputId": "f286944a-4c32-44b1-cec3-c09b5b3e9dcb"
      },
      "source": [
        "a = np.array([[1,2,3,4,5,6],[7,8,9,10,11,12]])\n",
        "b = np.ones((2,6))\n",
        "\n",
        "c = a-b \n",
        "print(c)"
      ],
      "execution_count": null,
      "outputs": [
        {
          "output_type": "stream",
          "name": "stdout",
          "text": [
            "[[ 0.  1.  2.  3.  4.  5.]\n",
            " [ 6.  7.  8.  9. 10. 11.]]\n"
          ]
        }
      ]
    },
    {
      "cell_type": "markdown",
      "metadata": {
        "id": "7zlieqh8K4LX"
      },
      "source": [
        "**Subtraction**"
      ]
    },
    {
      "cell_type": "code",
      "metadata": {
        "colab": {
          "base_uri": "https://localhost:8080/"
        },
        "id": "BMXldjQpKuSg",
        "outputId": "5ec6dd2a-48f0-428a-9eab-55ebf566f56b"
      },
      "source": [
        "a = np.array([[1,2,3,4,5,6],[7,8,9,10,11,12]])\n",
        "b = np.ones((2,6))\n",
        "\n",
        "c = np.subtract(a,b)\n",
        "print(c)"
      ],
      "execution_count": null,
      "outputs": [
        {
          "output_type": "stream",
          "name": "stdout",
          "text": [
            "[[ 0.  1.  2.  3.  4.  5.]\n",
            " [ 6.  7.  8.  9. 10. 11.]]\n"
          ]
        }
      ]
    },
    {
      "cell_type": "markdown",
      "metadata": {
        "id": "Qtmce098L4O3"
      },
      "source": [
        "**Addition**"
      ]
    },
    {
      "cell_type": "code",
      "metadata": {
        "colab": {
          "base_uri": "https://localhost:8080/"
        },
        "id": "1M8Fk58pLDEN",
        "outputId": "b8d5b86e-5f2a-44f7-bac2-dc2673f1e9d7"
      },
      "source": [
        "a = np.array([[1,2,3,4,5,6],[7,8,9,10,11,12]])\n",
        "b = np.ones((2,6))\n",
        "\n",
        "c = a+b\n",
        "print(c)"
      ],
      "execution_count": null,
      "outputs": [
        {
          "output_type": "stream",
          "name": "stdout",
          "text": [
            "[[ 2.  3.  4.  5.  6.  7.]\n",
            " [ 8.  9. 10. 11. 12. 13.]]\n"
          ]
        }
      ]
    },
    {
      "cell_type": "markdown",
      "metadata": {
        "id": "WXK6-JIZL_sC"
      },
      "source": [
        "**Addition**"
      ]
    },
    {
      "cell_type": "code",
      "metadata": {
        "colab": {
          "base_uri": "https://localhost:8080/"
        },
        "id": "IfWFvs1pL9G5",
        "outputId": "f7d7ef05-eb20-4772-b722-f6cef9442cb9"
      },
      "source": [
        "a = np.array([[1,2,3,4,5,6],[7,8,9,10,11,12]])\n",
        "b = np.ones((2,6))\n",
        "\n",
        "c = np.add(a,b)\n",
        "print(c)"
      ],
      "execution_count": null,
      "outputs": [
        {
          "output_type": "stream",
          "name": "stdout",
          "text": [
            "[[ 2.  3.  4.  5.  6.  7.]\n",
            " [ 8.  9. 10. 11. 12. 13.]]\n"
          ]
        }
      ]
    },
    {
      "cell_type": "markdown",
      "metadata": {
        "id": "oazXAxuwMOJo"
      },
      "source": [
        "**Division**"
      ]
    },
    {
      "cell_type": "code",
      "metadata": {
        "colab": {
          "base_uri": "https://localhost:8080/"
        },
        "id": "84ugRFc7MFQE",
        "outputId": "054d7c6e-cd48-4c3b-a65c-7fd7a89f5c34"
      },
      "source": [
        "a = np.array([[1,2,3,4,5,6],[7,8,9,10,11,12]])\n",
        "b = np.ones((2,6))\n",
        "\n",
        "c = a/b\n",
        "print(c)"
      ],
      "execution_count": null,
      "outputs": [
        {
          "output_type": "stream",
          "name": "stdout",
          "text": [
            "[[ 1.  2.  3.  4.  5.  6.]\n",
            " [ 7.  8.  9. 10. 11. 12.]]\n"
          ]
        }
      ]
    },
    {
      "cell_type": "markdown",
      "metadata": {
        "id": "56HEJht7MV__"
      },
      "source": [
        "**Division**"
      ]
    },
    {
      "cell_type": "code",
      "metadata": {
        "colab": {
          "base_uri": "https://localhost:8080/"
        },
        "id": "RySeI3q3MULn",
        "outputId": "be3c3ad3-eb53-4468-e765-efe3af56ec0d"
      },
      "source": [
        "a = np.array([[1,2,3,4,5,6],[7,8,9,10,11,12]])\n",
        "b = np.ones((2,6))\n",
        "\n",
        "c = np.divide(a,b)\n",
        "print(c)"
      ],
      "execution_count": null,
      "outputs": [
        {
          "output_type": "stream",
          "name": "stdout",
          "text": [
            "[[ 1.  2.  3.  4.  5.  6.]\n",
            " [ 7.  8.  9. 10. 11. 12.]]\n"
          ]
        }
      ]
    },
    {
      "cell_type": "markdown",
      "metadata": {
        "id": "xpJAmFUKMgci"
      },
      "source": [
        "**Multiplication**"
      ]
    },
    {
      "cell_type": "code",
      "metadata": {
        "colab": {
          "base_uri": "https://localhost:8080/"
        },
        "id": "-gK1ML7TMbsa",
        "outputId": "18b96f2b-6598-4dc3-d994-be9af2d6b788"
      },
      "source": [
        "a = np.array([[1,2,3,4,5,6],[7,8,9,10,11,12]])\n",
        "b = np.full((2,6),2)\n",
        "\n",
        "c = a*b\n",
        "print(c)"
      ],
      "execution_count": null,
      "outputs": [
        {
          "output_type": "stream",
          "name": "stdout",
          "text": [
            "[[ 2  4  6  8 10 12]\n",
            " [14 16 18 20 22 24]]\n"
          ]
        }
      ]
    },
    {
      "cell_type": "markdown",
      "metadata": {
        "id": "UGkVeam-NXUr"
      },
      "source": [
        "**Multiplication**"
      ]
    },
    {
      "cell_type": "code",
      "metadata": {
        "colab": {
          "base_uri": "https://localhost:8080/"
        },
        "id": "L84VP2-ANR3w",
        "outputId": "e298b641-17b3-48f2-90fc-3d0b9db3e924"
      },
      "source": [
        "a = np.array([[1,2,3,4,5,6],[7,8,9,10,11,12]])\n",
        "b = np.full((2,6),2)\n",
        "\n",
        "c = np.multiply(a,b)\n",
        "print(c)"
      ],
      "execution_count": null,
      "outputs": [
        {
          "output_type": "stream",
          "name": "stdout",
          "text": [
            "[[ 2  4  6  8 10 12]\n",
            " [14 16 18 20 22 24]]\n"
          ]
        }
      ]
    },
    {
      "cell_type": "markdown",
      "metadata": {
        "id": "WP_F686dNk0e"
      },
      "source": [
        "**Exponentiation**"
      ]
    },
    {
      "cell_type": "code",
      "metadata": {
        "colab": {
          "base_uri": "https://localhost:8080/"
        },
        "id": "rDh-OWz-NhOA",
        "outputId": "3f52991c-49b4-4d82-ad35-b99b4c869597"
      },
      "source": [
        "a = np.array([1,3,5])\n",
        "\n",
        "c =np.exp(a)   # e =2.71828183 , e power the array elements\n",
        "print(\"The exponentiation:\", c)"
      ],
      "execution_count": null,
      "outputs": [
        {
          "output_type": "stream",
          "name": "stdout",
          "text": [
            "The exponentiation: [  2.71828183  20.08553692 148.4131591 ]\n"
          ]
        }
      ]
    },
    {
      "cell_type": "markdown",
      "metadata": {
        "id": "g1mZvkRrQEed"
      },
      "source": [
        "**Square Root**"
      ]
    },
    {
      "cell_type": "code",
      "metadata": {
        "colab": {
          "base_uri": "https://localhost:8080/"
        },
        "id": "50QMiwh1PtSo",
        "outputId": "d53a01d0-acf6-4458-cfbb-37f8c3c95fc3"
      },
      "source": [
        "a =np.array([9,49,81])\n",
        "\n",
        "c =np.sqrt(a)\n",
        "print(c)"
      ],
      "execution_count": null,
      "outputs": [
        {
          "output_type": "stream",
          "name": "stdout",
          "text": [
            "[3. 7. 9.]\n"
          ]
        }
      ]
    },
    {
      "cell_type": "markdown",
      "metadata": {
        "id": "WuPw1XoLQpVd"
      },
      "source": [
        "**Element-wise Sines of an array**"
      ]
    },
    {
      "cell_type": "code",
      "metadata": {
        "colab": {
          "base_uri": "https://localhost:8080/"
        },
        "id": "2Hz1bSQJQN5B",
        "outputId": "446be57e-0d4b-4cf4-81b8-d3a7c36f9e70"
      },
      "source": [
        "a =np.array([0,60,90])\n",
        "\n",
        "c =np.sin(a)\n",
        "print(\"The sine values are:\",c )"
      ],
      "execution_count": null,
      "outputs": [
        {
          "output_type": "stream",
          "name": "stdout",
          "text": [
            "The sine values are: [ 0.         -0.30481062  0.89399666]\n"
          ]
        }
      ]
    },
    {
      "cell_type": "markdown",
      "metadata": {
        "id": "WQqPOr6cRlrJ"
      },
      "source": [
        "**Element-wise cosines of an array**"
      ]
    },
    {
      "cell_type": "code",
      "metadata": {
        "colab": {
          "base_uri": "https://localhost:8080/"
        },
        "id": "Pc6pgSz_Ra0u",
        "outputId": "c2222cdb-b9e5-4e2f-ad7a-854db05e5f9a"
      },
      "source": [
        "a = np.array([0,60,90])\n",
        "\n",
        "c =np.cos(a)\n",
        "print(\"The cosine values are: \",c)"
      ],
      "execution_count": null,
      "outputs": [
        {
          "output_type": "stream",
          "name": "stdout",
          "text": [
            "The cosine values are:  [ 1.         -0.95241298 -0.44807362]\n"
          ]
        }
      ]
    },
    {
      "cell_type": "markdown",
      "metadata": {
        "id": "OdTBJs5yR_In"
      },
      "source": [
        "**Element-wise Natural Logarithm**"
      ]
    },
    {
      "cell_type": "code",
      "metadata": {
        "colab": {
          "base_uri": "https://localhost:8080/"
        },
        "id": "3tb9qz2pRyi8",
        "outputId": "6518363c-64fa-4bee-81a0-bd2aa55d8119"
      },
      "source": [
        "a = np.array([4,5,6])\n",
        "\n",
        "c =np.log(a)\n",
        "print(\"The log values are:\",c)"
      ],
      "execution_count": null,
      "outputs": [
        {
          "output_type": "stream",
          "name": "stdout",
          "text": [
            "The log values are: [1.38629436 1.60943791 1.79175947]\n"
          ]
        }
      ]
    },
    {
      "cell_type": "code",
      "metadata": {
        "colab": {
          "base_uri": "https://localhost:8080/"
        },
        "id": "fD72o27BSL5A",
        "outputId": "38d3a664-d937-46b0-b2b9-5b851019e061"
      },
      "source": [
        "a = np.ones((3,3))\n",
        "b = np.ones((3,3))\n",
        "\n",
        "c =a.dot(b)\n",
        "print(\"The dot product is :\",c)"
      ],
      "execution_count": null,
      "outputs": [
        {
          "output_type": "stream",
          "name": "stdout",
          "text": [
            "The dot product is : [[3. 3. 3.]\n",
            " [3. 3. 3.]\n",
            " [3. 3. 3.]]\n"
          ]
        }
      ]
    },
    {
      "cell_type": "markdown",
      "metadata": {
        "id": "Ij4-I74wTGAW"
      },
      "source": [
        "##Comparison"
      ]
    },
    {
      "cell_type": "markdown",
      "metadata": {
        "id": "hASJWVHuTKW0"
      },
      "source": [
        "**Element-wise Comparsion**"
      ]
    },
    {
      "cell_type": "code",
      "metadata": {
        "colab": {
          "base_uri": "https://localhost:8080/"
        },
        "id": "l6sFbASmTIhB",
        "outputId": "da48b802-4f24-45c4-c0f3-1080e8de3604"
      },
      "source": [
        "a = np.array([[1,2,3,4,5,6],[7,8,9,10,11,12]])\n",
        "b = np.array([[1,2,3,4,5,6],[7,0,9,10,11,1]])\n",
        "\n",
        "a == b"
      ],
      "execution_count": null,
      "outputs": [
        {
          "output_type": "execute_result",
          "data": {
            "text/plain": [
              "array([[ True,  True,  True,  True,  True,  True],\n",
              "       [ True, False,  True,  True,  True, False]])"
            ]
          },
          "metadata": {},
          "execution_count": 46
        }
      ]
    },
    {
      "cell_type": "markdown",
      "metadata": {
        "id": "R4l-M2HDWjA2"
      },
      "source": [
        "**Element-wise Comparsion**"
      ]
    },
    {
      "cell_type": "code",
      "metadata": {
        "colab": {
          "base_uri": "https://localhost:8080/"
        },
        "id": "EZkjrM8GWgc2",
        "outputId": "bb25fc9a-45b7-46da-ab0f-35f93ee9cd53"
      },
      "source": [
        "a = np.array([[1,2,3,4,5,6],[7,8,9,10,11,12]])\n",
        "\n",
        "a < 2"
      ],
      "execution_count": null,
      "outputs": [
        {
          "output_type": "execute_result",
          "data": {
            "text/plain": [
              "array([[ True, False, False, False, False, False],\n",
              "       [False, False, False, False, False, False]])"
            ]
          },
          "metadata": {},
          "execution_count": 47
        }
      ]
    },
    {
      "cell_type": "markdown",
      "metadata": {
        "id": "AGwOs-DAY12V"
      },
      "source": [
        "**Array-wise Comparsion**"
      ]
    },
    {
      "cell_type": "code",
      "metadata": {
        "colab": {
          "base_uri": "https://localhost:8080/"
        },
        "id": "T5zoEAAgYoLt",
        "outputId": "9968197b-03a9-47d4-a854-fc05245571aa"
      },
      "source": [
        "a = np.array([[1,2,3,4,5,6],[7,8,9,10,11,12]])\n",
        "b = np.array([[1,2,3,4,5,6],[7,0,9,10,11,1]])\n",
        "\n",
        "c = np.array_equal(a,b)\n",
        "print(c)"
      ],
      "execution_count": null,
      "outputs": [
        {
          "output_type": "stream",
          "name": "stdout",
          "text": [
            "False\n"
          ]
        }
      ]
    },
    {
      "cell_type": "markdown",
      "metadata": {
        "id": "Qe2AVRuiaPNb"
      },
      "source": [
        "##Aggregate Fuctions"
      ]
    },
    {
      "cell_type": "markdown",
      "metadata": {
        "id": "yNFL-tataWhZ"
      },
      "source": [
        "**Array-wise sum**"
      ]
    },
    {
      "cell_type": "code",
      "metadata": {
        "id": "kiv9mJBraHUb",
        "colab": {
          "base_uri": "https://localhost:8080/"
        },
        "outputId": "134d099f-a0f1-4ef0-aa90-6285d185f3f9"
      },
      "source": [
        "a = np.array([[1,2,3,4,5,6],[7,8,9,10,11,12]])\n",
        "\n",
        "a.sum()"
      ],
      "execution_count": null,
      "outputs": [
        {
          "output_type": "execute_result",
          "data": {
            "text/plain": [
              "78"
            ]
          },
          "metadata": {},
          "execution_count": 3
        }
      ]
    },
    {
      "cell_type": "markdown",
      "metadata": {
        "id": "CHrAPMWpTCxR"
      },
      "source": [
        "**Array-wise minimum value**"
      ]
    },
    {
      "cell_type": "code",
      "metadata": {
        "colab": {
          "base_uri": "https://localhost:8080/"
        },
        "id": "VeTFJZBdSr0S",
        "outputId": "64502925-160f-4973-bbfa-262f64961f9d"
      },
      "source": [
        "a = np.array([[1,2,3,4,5,6],[7,8,9,10,11,12]])\n",
        "\n",
        "a.min()"
      ],
      "execution_count": null,
      "outputs": [
        {
          "output_type": "execute_result",
          "data": {
            "text/plain": [
              "1"
            ]
          },
          "metadata": {},
          "execution_count": 4
        }
      ]
    },
    {
      "cell_type": "markdown",
      "metadata": {
        "id": "rqSIx2uITNKO"
      },
      "source": [
        "**Maximum value of an array row**"
      ]
    },
    {
      "cell_type": "code",
      "metadata": {
        "colab": {
          "base_uri": "https://localhost:8080/"
        },
        "id": "_f9MIw5jTLBT",
        "outputId": "0e172b2f-2396-476c-c5f6-1077fb40cc24"
      },
      "source": [
        "a = np.array([1,2,3,4,5,6])\n",
        "\n",
        "a.max(axis=0) # 1 = column 0 =row"
      ],
      "execution_count": null,
      "outputs": [
        {
          "output_type": "execute_result",
          "data": {
            "text/plain": [
              "6"
            ]
          },
          "metadata": {},
          "execution_count": 7
        }
      ]
    },
    {
      "cell_type": "markdown",
      "metadata": {
        "id": "nmU2N8q2TxCP"
      },
      "source": [
        "**Cumulative sum of the elements**"
      ]
    },
    {
      "cell_type": "code",
      "metadata": {
        "colab": {
          "base_uri": "https://localhost:8080/"
        },
        "id": "o3PnlzX0TYZo",
        "outputId": "27819b45-6681-424d-95b0-a75ca7944a37"
      },
      "source": [
        "a = np.array([[1,2,3,4,5,6],[7,8,9,10,11,12]])\n",
        "\n",
        "a.cumsum(axis=1)"
      ],
      "execution_count": null,
      "outputs": [
        {
          "output_type": "execute_result",
          "data": {
            "text/plain": [
              "array([[ 1,  3,  6, 10, 15, 21],\n",
              "       [ 7, 15, 24, 34, 45, 57]])"
            ]
          },
          "metadata": {},
          "execution_count": 8
        }
      ]
    },
    {
      "cell_type": "markdown",
      "metadata": {
        "id": "5U8nIVdqUCaF"
      },
      "source": [
        "**Mean**"
      ]
    },
    {
      "cell_type": "code",
      "metadata": {
        "id": "HtBLcIdET8Wm",
        "colab": {
          "base_uri": "https://localhost:8080/"
        },
        "outputId": "3f1aa544-61f3-4e2a-84b0-01ab763f7f65"
      },
      "source": [
        "a = np.array([1,2,3,4,5,6])\n",
        "\n",
        "\n",
        "a.mean()"
      ],
      "execution_count": 21,
      "outputs": [
        {
          "output_type": "execute_result",
          "data": {
            "text/plain": [
              "3.5"
            ]
          },
          "metadata": {},
          "execution_count": 21
        }
      ]
    },
    {
      "cell_type": "markdown",
      "metadata": {
        "id": "x0yqwar6XnTw"
      },
      "source": [
        "**Correlation coefficient**"
      ]
    },
    {
      "cell_type": "code",
      "metadata": {
        "colab": {
          "base_uri": "https://localhost:8080/"
        },
        "id": "gIE5Q_1UX0rr",
        "outputId": "f6370b4a-430b-4b0c-e640-8616941e5c5d"
      },
      "source": [
        "a = np.array([1,2,3,4,5,6])\n",
        "b = np.array([7,8,9,10,11,12])\n",
        "\n",
        "np.correlate(a,b) #This function computes the correlation as generally defined\n",
        "# in signal processing texts: c_{av}[k] = sum_n a[n+k] * conj(v[n])"
      ],
      "execution_count": 32,
      "outputs": [
        {
          "output_type": "execute_result",
          "data": {
            "text/plain": [
              "array([217])"
            ]
          },
          "metadata": {},
          "execution_count": 32
        }
      ]
    },
    {
      "cell_type": "markdown",
      "metadata": {
        "id": "ozciWlftaaZL"
      },
      "source": [
        "**Median**"
      ]
    },
    {
      "cell_type": "code",
      "metadata": {
        "colab": {
          "base_uri": "https://localhost:8080/"
        },
        "id": "ll0bfCB4aZv_",
        "outputId": "be330f2a-a204-47e8-8f11-d0ff3da81a20"
      },
      "source": [
        "a = np.array([[1,2,3,4,5,6],[7,8,9,10,11,12]])\n",
        "\n",
        "np.median(a)"
      ],
      "execution_count": 35,
      "outputs": [
        {
          "output_type": "execute_result",
          "data": {
            "text/plain": [
              "6.5"
            ]
          },
          "metadata": {},
          "execution_count": 35
        }
      ]
    },
    {
      "cell_type": "markdown",
      "metadata": {
        "id": "wqUZJUkQavc8"
      },
      "source": [
        "**Standard deviation**"
      ]
    },
    {
      "cell_type": "code",
      "metadata": {
        "colab": {
          "base_uri": "https://localhost:8080/"
        },
        "id": "r4JvL3OXYAAu",
        "outputId": "f7429129-4520-4ce5-d877-287f558ec1b9"
      },
      "source": [
        "a = np.array([[1,2,3,4,5,6],[7,8,9,10,11,12]])\n",
        "\n",
        "np.std(a)"
      ],
      "execution_count": 36,
      "outputs": [
        {
          "output_type": "execute_result",
          "data": {
            "text/plain": [
              "3.452052529534663"
            ]
          },
          "metadata": {},
          "execution_count": 36
        }
      ]
    },
    {
      "cell_type": "markdown",
      "metadata": {
        "id": "_fFXuRuqb2tL"
      },
      "source": [
        "##Copying Arrays"
      ]
    },
    {
      "cell_type": "markdown",
      "metadata": {
        "id": "lIcRGDgZb8e0"
      },
      "source": [
        "**Create a view of the array with the same data**"
      ]
    },
    {
      "cell_type": "code",
      "metadata": {
        "colab": {
          "base_uri": "https://localhost:8080/"
        },
        "id": "4rQPnONsb642",
        "outputId": "d03e9800-0432-4811-ab38-aef96d54574f"
      },
      "source": [
        "a = np.array([[1,2,3,4,5,6],[7,8,9,10,11,12]])\n",
        "\n",
        "h =a.view()\n",
        "print(h)"
      ],
      "execution_count": 38,
      "outputs": [
        {
          "output_type": "stream",
          "name": "stdout",
          "text": [
            "[[ 1  2  3  4  5  6]\n",
            " [ 7  8  9 10 11 12]]\n"
          ]
        }
      ]
    },
    {
      "cell_type": "markdown",
      "metadata": {
        "id": "MkR0LdYucQpG"
      },
      "source": [
        "**Create a copy of the array**"
      ]
    },
    {
      "cell_type": "code",
      "metadata": {
        "colab": {
          "base_uri": "https://localhost:8080/"
        },
        "id": "KKjdcBTXcVqn",
        "outputId": "21ff6ec7-8b96-4be2-9e12-932f9d7b1cc7"
      },
      "source": [
        "a = np.array([[1,2,3,4,5,6],[7,8,9,10,11,12]])\n",
        "\n",
        "b = np.copy(a)\n",
        "print(b)"
      ],
      "execution_count": 39,
      "outputs": [
        {
          "output_type": "stream",
          "name": "stdout",
          "text": [
            "[[ 1  2  3  4  5  6]\n",
            " [ 7  8  9 10 11 12]]\n"
          ]
        }
      ]
    },
    {
      "cell_type": "markdown",
      "metadata": {
        "id": "zWmJKv8rcisd"
      },
      "source": [
        "**Create a deep copy of the array**"
      ]
    },
    {
      "cell_type": "code",
      "metadata": {
        "colab": {
          "base_uri": "https://localhost:8080/"
        },
        "id": "rm3B2zaCcnRL",
        "outputId": "4e1fc3e6-b62e-4871-e040-478db078c7d9"
      },
      "source": [
        "a = np.array([[1,2,3,4,5,6],[7,8,9,10,11,12]])\n",
        "\n",
        "b = a.copy()\n",
        "print(b)"
      ],
      "execution_count": 40,
      "outputs": [
        {
          "output_type": "stream",
          "name": "stdout",
          "text": [
            "[[ 1  2  3  4  5  6]\n",
            " [ 7  8  9 10 11 12]]\n"
          ]
        }
      ]
    },
    {
      "cell_type": "markdown",
      "metadata": {
        "id": "lICEUgQsctt7"
      },
      "source": [
        "##Sorting Arrays"
      ]
    },
    {
      "cell_type": "markdown",
      "metadata": {
        "id": "F_9oc8kic2v2"
      },
      "source": [
        "**Sort an array**"
      ]
    },
    {
      "cell_type": "code",
      "metadata": {
        "colab": {
          "base_uri": "https://localhost:8080/"
        },
        "id": "czpDzeNPc1wF",
        "outputId": "451e5460-96f1-4f5e-d06a-5aa43a8de415"
      },
      "source": [
        "a =np.array([12,11,10,9,8])\n",
        "\n",
        "a.sort()\n",
        "print(a)"
      ],
      "execution_count": 43,
      "outputs": [
        {
          "output_type": "stream",
          "name": "stdout",
          "text": [
            "[ 8  9 10 11 12]\n"
          ]
        }
      ]
    },
    {
      "cell_type": "markdown",
      "metadata": {
        "id": "e4E-DEUkdKNV"
      },
      "source": [
        "**Sort the elements of an array's axis**"
      ]
    },
    {
      "cell_type": "code",
      "metadata": {
        "colab": {
          "base_uri": "https://localhost:8080/"
        },
        "id": "S4xy5k7zdbFm",
        "outputId": "375b3e31-e634-42b7-de9d-8ace3cf21c0d"
      },
      "source": [
        "a =np.array([[2, 2, 2, 2, 2],  \n",
        "       [15, 6, 27, 8, 2], \n",
        "       [23, 2, 54, 1, 2, ], \n",
        "       [11, 44, 34, 7, 2]] )\n",
        "\n",
        "a.sort(axis=0)\n",
        "print(a)"
      ],
      "execution_count": 44,
      "outputs": [
        {
          "output_type": "stream",
          "name": "stdout",
          "text": [
            "[[ 2  2  2  1  2]\n",
            " [11  2 27  2  2]\n",
            " [15  6 34  7  2]\n",
            " [23 44 54  8  2]]\n"
          ]
        }
      ]
    },
    {
      "cell_type": "markdown",
      "metadata": {
        "id": "AHtiaiJud0y7"
      },
      "source": [
        "##Subsetting,Slicing,Indexing"
      ]
    },
    {
      "cell_type": "markdown",
      "metadata": {
        "id": "ct7uSjXSd8pg"
      },
      "source": [
        "##Subsetting"
      ]
    },
    {
      "cell_type": "markdown",
      "metadata": {
        "id": "FHn8opFGfn98"
      },
      "source": [
        "**Select the element at the 2nd index**"
      ]
    },
    {
      "cell_type": "code",
      "metadata": {
        "colab": {
          "base_uri": "https://localhost:8080/"
        },
        "id": "j-2BJxNzeAUi",
        "outputId": "33b5dc2a-4c27-4a6e-ed91-7d35b8eddb80"
      },
      "source": [
        "a = np.array([1,2,3,4,5,6])\n",
        "\n",
        "print(a[2])\n"
      ],
      "execution_count": 49,
      "outputs": [
        {
          "output_type": "stream",
          "name": "stdout",
          "text": [
            "3\n"
          ]
        }
      ]
    },
    {
      "cell_type": "markdown",
      "metadata": {
        "id": "gvzony1zfxWv"
      },
      "source": [
        "**Select the element at row 0 column 2(equivalent to a[1][2])**"
      ]
    },
    {
      "cell_type": "code",
      "metadata": {
        "colab": {
          "base_uri": "https://localhost:8080/"
        },
        "id": "UwHUFnA9f-Eb",
        "outputId": "69c3dfa4-5db5-4d95-b5c8-2cb9f9522915"
      },
      "source": [
        "a = np.array([[1,2,3,4,5,6],\n",
        "              [7,8,9,10,11,12]])\n",
        "\n",
        "a[1,2]"
      ],
      "execution_count": 52,
      "outputs": [
        {
          "output_type": "execute_result",
          "data": {
            "text/plain": [
              "9"
            ]
          },
          "metadata": {},
          "execution_count": 52
        }
      ]
    },
    {
      "cell_type": "markdown",
      "metadata": {
        "id": "oNIhFBt1gDgs"
      },
      "source": [
        "##Slicing"
      ]
    },
    {
      "cell_type": "markdown",
      "metadata": {
        "id": "vBKmEN0dgNm5"
      },
      "source": [
        "**Select items at index 0 and 1**"
      ]
    },
    {
      "cell_type": "code",
      "metadata": {
        "colab": {
          "base_uri": "https://localhost:8080/"
        },
        "id": "cCj9FLu5gTNx",
        "outputId": "47af6b80-8e3e-4b21-cfe4-820c0d8203bf"
      },
      "source": [
        "a = np.array([1,2,3,4,5,6])\n",
        "\n",
        "a[0:2]"
      ],
      "execution_count": 51,
      "outputs": [
        {
          "output_type": "execute_result",
          "data": {
            "text/plain": [
              "array([1, 2])"
            ]
          },
          "metadata": {},
          "execution_count": 51
        }
      ]
    },
    {
      "cell_type": "markdown",
      "metadata": {
        "id": "g-UsXUctgjMX"
      },
      "source": [
        "**Select items at rows 0 and 1 in column 1**"
      ]
    },
    {
      "cell_type": "code",
      "metadata": {
        "colab": {
          "base_uri": "https://localhost:8080/"
        },
        "id": "oYbwK94jgtWk",
        "outputId": "5ec65fb0-7d63-4eef-ec16-89033c7d56ee"
      },
      "source": [
        "a = np.array([[1,2,3,4,5,6],\n",
        "              [7,8,9,10,11,12]])\n",
        "\n",
        "a[0:2, 1]"
      ],
      "execution_count": 53,
      "outputs": [
        {
          "output_type": "execute_result",
          "data": {
            "text/plain": [
              "array([2, 8])"
            ]
          },
          "metadata": {},
          "execution_count": 53
        }
      ]
    },
    {
      "cell_type": "markdown",
      "metadata": {
        "id": "cGaoXK5ShDMM"
      },
      "source": [
        "**Select all items at row 0 (equivalent to b[0:1 , :])**"
      ]
    },
    {
      "cell_type": "code",
      "metadata": {
        "colab": {
          "base_uri": "https://localhost:8080/"
        },
        "id": "m3SnqEZRhWBE",
        "outputId": "23b6f7b7-d1a0-40be-faa4-625edd16fdf6"
      },
      "source": [
        "a = np.array([[1,2,3,4,5,6],\n",
        "              [7,8,9,10,11,12]])\n",
        "\n",
        "a[:1]"
      ],
      "execution_count": 54,
      "outputs": [
        {
          "output_type": "execute_result",
          "data": {
            "text/plain": [
              "array([[1, 2, 3, 4, 5, 6]])"
            ]
          },
          "metadata": {},
          "execution_count": 54
        }
      ]
    },
    {
      "cell_type": "markdown",
      "metadata": {
        "id": "6JNlsx_ThgKk"
      },
      "source": [
        "**Same as [1, : , :]**"
      ]
    },
    {
      "cell_type": "code",
      "metadata": {
        "colab": {
          "base_uri": "https://localhost:8080/"
        },
        "id": "bpCe4pWkhoUs",
        "outputId": "e252573d-9f3d-4c34-aadb-830926bff369"
      },
      "source": [
        "a = np.array([[1,2,3,4,5,6],\n",
        "              [7,8,9,10,11,12]])\n",
        "\n",
        "a[1,...]"
      ],
      "execution_count": 56,
      "outputs": [
        {
          "output_type": "execute_result",
          "data": {
            "text/plain": [
              "array([ 7,  8,  9, 10, 11, 12])"
            ]
          },
          "metadata": {},
          "execution_count": 56
        }
      ]
    },
    {
      "cell_type": "markdown",
      "metadata": {
        "id": "yA-G6jdSh5D3"
      },
      "source": [
        "**Reversed array**"
      ]
    },
    {
      "cell_type": "code",
      "metadata": {
        "colab": {
          "base_uri": "https://localhost:8080/"
        },
        "id": "_32RUVW_h-8n",
        "outputId": "5c1eebb4-ffcc-4f08-a85d-9cf91364d26e"
      },
      "source": [
        "a = np.array([1,2,3,4,5,6])\n",
        "\n",
        "a[: :-1]"
      ],
      "execution_count": 58,
      "outputs": [
        {
          "output_type": "execute_result",
          "data": {
            "text/plain": [
              "array([6, 5, 4, 3, 2, 1])"
            ]
          },
          "metadata": {},
          "execution_count": 58
        }
      ]
    },
    {
      "cell_type": "markdown",
      "metadata": {
        "id": "92QQUYSBiNDk"
      },
      "source": [
        "##Boolean Indexing"
      ]
    },
    {
      "cell_type": "markdown",
      "metadata": {
        "id": "JyvdVFpjiSsE"
      },
      "source": [
        "**Select elements from a less than 2**"
      ]
    },
    {
      "cell_type": "code",
      "metadata": {
        "colab": {
          "base_uri": "https://localhost:8080/"
        },
        "id": "9D_qtIwhiYKE",
        "outputId": "cf99b378-5272-4b49-bfbb-b01e31f9b251"
      },
      "source": [
        "a = np.array([1,2,3,4,5,6])\n",
        "\n",
        "a[a<4]"
      ],
      "execution_count": 59,
      "outputs": [
        {
          "output_type": "execute_result",
          "data": {
            "text/plain": [
              "array([1, 2, 3])"
            ]
          },
          "metadata": {},
          "execution_count": 59
        }
      ]
    },
    {
      "cell_type": "markdown",
      "metadata": {
        "id": "3EsGyKU8ikB2"
      },
      "source": [
        "##Fancy Indexing"
      ]
    },
    {
      "cell_type": "markdown",
      "metadata": {
        "id": "XGuPSUdrinXV"
      },
      "source": [
        "**Select elements (1,0),(0,1),(1,2) and (0,0)**"
      ]
    },
    {
      "cell_type": "code",
      "metadata": {
        "colab": {
          "base_uri": "https://localhost:8080/"
        },
        "id": "hiMqLrBZi2Lt",
        "outputId": "65d4b659-0f9a-46b9-d063-23a7af885f2e"
      },
      "source": [
        "a = np.array([[1,2,3,4,5,6],\n",
        "              [7,8,9,10,11,12]])\n",
        "a[(1,0,1,0),(0,1,2,0)]"
      ],
      "execution_count": 66,
      "outputs": [
        {
          "output_type": "execute_result",
          "data": {
            "text/plain": [
              "array([7, 2, 9, 1])"
            ]
          },
          "metadata": {},
          "execution_count": 66
        }
      ]
    },
    {
      "cell_type": "markdown",
      "metadata": {
        "id": "RA06SkFqmsY1"
      },
      "source": [
        "**Select a subset of the matrix's rows and columns**"
      ]
    },
    {
      "cell_type": "code",
      "metadata": {
        "colab": {
          "base_uri": "https://localhost:8080/"
        },
        "id": "YaFhSMWhm_Fk",
        "outputId": "79cb3a1a-3e5d-4d64-962b-36d9cef4442f"
      },
      "source": [
        "a =np.array([[2, 2, 2, 2, 2],  \n",
        "       [15, 6, 27, 8, 2], \n",
        "       [23, 2, 54, 1, 2, ], \n",
        "       [11, 44, 34, 7, 2]] )\n",
        "\n",
        "\n",
        "a[[1, 0, 1, 0]][:,[0,1,2,0]]"
      ],
      "execution_count": 68,
      "outputs": [
        {
          "output_type": "execute_result",
          "data": {
            "text/plain": [
              "array([[15,  6, 27, 15],\n",
              "       [ 2,  2,  2,  2],\n",
              "       [15,  6, 27, 15],\n",
              "       [ 2,  2,  2,  2]])"
            ]
          },
          "metadata": {},
          "execution_count": 68
        }
      ]
    },
    {
      "cell_type": "markdown",
      "metadata": {
        "id": "Oq6awKPunpMP"
      },
      "source": [
        "##Array Manipulation"
      ]
    },
    {
      "cell_type": "markdown",
      "metadata": {
        "id": "15oqF6tGnu4F"
      },
      "source": [
        "##Transposing Array"
      ]
    },
    {
      "cell_type": "markdown",
      "metadata": {
        "id": "wwcTaK9Rn1Vm"
      },
      "source": [
        "**Permute array dimensions**"
      ]
    },
    {
      "cell_type": "code",
      "metadata": {
        "colab": {
          "base_uri": "https://localhost:8080/"
        },
        "id": "9F24Tq4joFMp",
        "outputId": "1047c560-c52e-46f8-c1da-aea5fc705aa1"
      },
      "source": [
        "a =np.array([[2, 2, 2, 2, 2],  \n",
        "       [15, 6, 27, 8, 2], \n",
        "       [23, 2, 54, 1, 2, ], \n",
        "       [11, 44, 34, 7, 2]] )\n",
        "\n",
        "np.transpose(a)"
      ],
      "execution_count": 69,
      "outputs": [
        {
          "output_type": "execute_result",
          "data": {
            "text/plain": [
              "array([[ 2, 15, 23, 11],\n",
              "       [ 2,  6,  2, 44],\n",
              "       [ 2, 27, 54, 34],\n",
              "       [ 2,  8,  1,  7],\n",
              "       [ 2,  2,  2,  2]])"
            ]
          },
          "metadata": {},
          "execution_count": 69
        }
      ]
    },
    {
      "cell_type": "markdown",
      "metadata": {
        "id": "SADjZv0RobJg"
      },
      "source": [
        "**Permute array dimensions**"
      ]
    },
    {
      "cell_type": "code",
      "metadata": {
        "colab": {
          "base_uri": "https://localhost:8080/"
        },
        "id": "EPr7nzPkokyS",
        "outputId": "393bc26f-8d6d-4567-d13c-36bfb4968503"
      },
      "source": [
        "a =np.array([[2, 2, 2, 2, 2],  \n",
        "       [15, 6, 27, 8, 2], \n",
        "       [23, 2, 54, 1, 2, ], \n",
        "       [11, 44, 34, 7, 2]] )\n",
        "\n",
        "a.T"
      ],
      "execution_count": 70,
      "outputs": [
        {
          "output_type": "execute_result",
          "data": {
            "text/plain": [
              "array([[ 2, 15, 23, 11],\n",
              "       [ 2,  6,  2, 44],\n",
              "       [ 2, 27, 54, 34],\n",
              "       [ 2,  8,  1,  7],\n",
              "       [ 2,  2,  2,  2]])"
            ]
          },
          "metadata": {},
          "execution_count": 70
        }
      ]
    },
    {
      "cell_type": "markdown",
      "metadata": {
        "id": "Siuk2W9Iop8L"
      },
      "source": [
        "##Changing Array Shape"
      ]
    },
    {
      "cell_type": "markdown",
      "metadata": {
        "id": "VolojGTyo_9g"
      },
      "source": [
        "**Flatten the Array**"
      ]
    },
    {
      "cell_type": "code",
      "metadata": {
        "colab": {
          "base_uri": "https://localhost:8080/"
        },
        "id": "Tll8qP8xov6p",
        "outputId": "fd54b506-39e5-45d6-b70a-4d06f2644722"
      },
      "source": [
        "a =np.array([[2, 2, 2, 2, 2],  \n",
        "       [15, 6, 27, 8, 2], \n",
        "       [23, 2, 54, 1, 2, ], \n",
        "       [11, 44, 34, 7, 2]] )\n",
        "\n",
        "a.ravel()"
      ],
      "execution_count": 71,
      "outputs": [
        {
          "output_type": "execute_result",
          "data": {
            "text/plain": [
              "array([ 2,  2,  2,  2,  2, 15,  6, 27,  8,  2, 23,  2, 54,  1,  2, 11, 44,\n",
              "       34,  7,  2])"
            ]
          },
          "metadata": {},
          "execution_count": 71
        }
      ]
    },
    {
      "cell_type": "markdown",
      "metadata": {
        "id": "ajefigoKpV2B"
      },
      "source": [
        "**Reshape, but don't change data**"
      ]
    },
    {
      "cell_type": "code",
      "metadata": {
        "colab": {
          "base_uri": "https://localhost:8080/"
        },
        "id": "HZp-LL8upZLn",
        "outputId": "d7e4e7eb-aca4-427c-cc46-26d6a391b0b7"
      },
      "source": [
        "a =np.array([[2, 2, 2, 2, 2],  \n",
        "       [15, 6, 27, 8, 2], \n",
        "       [23, 2, 54, 1, 2, ], \n",
        "       [11, 44, 34, 7, 2]] )\n",
        "a.reshape((5,4))"
      ],
      "execution_count": 76,
      "outputs": [
        {
          "output_type": "execute_result",
          "data": {
            "text/plain": [
              "array([[ 2,  2,  2,  2],\n",
              "       [ 2, 15,  6, 27],\n",
              "       [ 8,  2, 23,  2],\n",
              "       [54,  1,  2, 11],\n",
              "       [44, 34,  7,  2]])"
            ]
          },
          "metadata": {},
          "execution_count": 76
        }
      ]
    },
    {
      "cell_type": "markdown",
      "metadata": {
        "id": "ay4G-uZoqIAe"
      },
      "source": [
        "##Adding/Removing Element"
      ]
    },
    {
      "cell_type": "markdown",
      "metadata": {
        "id": "nZDE90ZFqSFL"
      },
      "source": [
        "**Return a new array with shape (2,6)**"
      ]
    },
    {
      "cell_type": "code",
      "metadata": {
        "colab": {
          "base_uri": "https://localhost:8080/"
        },
        "id": "2WJdSYMtqgH0",
        "outputId": "3dcba70b-435a-4406-f7d4-eaa20f08afce"
      },
      "source": [
        "a =np.array([[2, 2, 2, 2, 2],  \n",
        "       [15, 6, 27, 8, 2], \n",
        "       [23, 2, 54, 1, 2, ], \n",
        "       [11, 44, 34, 7, 2]] )\n",
        "\n",
        "a.resize(10,2)\n",
        "print(a)"
      ],
      "execution_count": 78,
      "outputs": [
        {
          "output_type": "stream",
          "name": "stdout",
          "text": [
            "[[ 2  2]\n",
            " [ 2  2]\n",
            " [ 2 15]\n",
            " [ 6 27]\n",
            " [ 8  2]\n",
            " [23  2]\n",
            " [54  1]\n",
            " [ 2 11]\n",
            " [44 34]\n",
            " [ 7  2]]\n"
          ]
        }
      ]
    },
    {
      "cell_type": "markdown",
      "metadata": {
        "id": "gs4T6Wrsqzyv"
      },
      "source": [
        "**Append items to an array**"
      ]
    },
    {
      "cell_type": "code",
      "metadata": {
        "colab": {
          "base_uri": "https://localhost:8080/"
        },
        "id": "cTx7oHT5q9A5",
        "outputId": "c4b12bb6-da58-4ce5-8029-e9ea7b6ee44e"
      },
      "source": [
        "a = np.arange(8).reshape(2,4)\n",
        "b = np.arange(8,16).reshape(2,4)\n",
        "\n",
        "c = np.append(a,b,axis=0) # 1 = column\n",
        "print(c)"
      ],
      "execution_count": 83,
      "outputs": [
        {
          "output_type": "stream",
          "name": "stdout",
          "text": [
            "[[ 0  1  2  3]\n",
            " [ 4  5  6  7]\n",
            " [ 8  9 10 11]\n",
            " [12 13 14 15]]\n"
          ]
        }
      ]
    },
    {
      "cell_type": "markdown",
      "metadata": {
        "id": "mUkDdrIVsNvu"
      },
      "source": [
        "**Insert items in an array**"
      ]
    },
    {
      "cell_type": "code",
      "metadata": {
        "colab": {
          "base_uri": "https://localhost:8080/"
        },
        "id": "pXdRCEOpsR6l",
        "outputId": "bf9b4217-0be2-42e9-af25-66b9cfc91cfa"
      },
      "source": [
        "a =np.array([[2, 2, 2, 2, 2],  \n",
        "       [15, 6, 27, 8, 2], \n",
        "       [23, 2, 54, 1, 2, ], \n",
        "       [11, 44, 34, 7, 2]] )\n",
        "\n",
        "np.insert(a, 1 , 0,axis=1)"
      ],
      "execution_count": 87,
      "outputs": [
        {
          "output_type": "execute_result",
          "data": {
            "text/plain": [
              "array([[ 2,  0,  2,  2,  2,  2],\n",
              "       [15,  0,  6, 27,  8,  2],\n",
              "       [23,  0,  2, 54,  1,  2],\n",
              "       [11,  0, 44, 34,  7,  2]])"
            ]
          },
          "metadata": {},
          "execution_count": 87
        }
      ]
    },
    {
      "cell_type": "markdown",
      "metadata": {
        "id": "iUZjk8sDt0Ne"
      },
      "source": [
        "**Delete items from an array**"
      ]
    },
    {
      "cell_type": "code",
      "metadata": {
        "colab": {
          "base_uri": "https://localhost:8080/"
        },
        "id": "y-MmHQKrt5cY",
        "outputId": "8012d15c-41ef-467a-f3fc-24b040daa6b7"
      },
      "source": [
        "a = np.arange(8)\n",
        "\n",
        "np.delete(a,4)"
      ],
      "execution_count": 93,
      "outputs": [
        {
          "output_type": "execute_result",
          "data": {
            "text/plain": [
              "array([0, 1, 2, 3, 5, 6, 7])"
            ]
          },
          "metadata": {},
          "execution_count": 93
        }
      ]
    },
    {
      "cell_type": "markdown",
      "metadata": {
        "id": "xVDqpF2-upXN"
      },
      "source": [
        "##Combining Arrays"
      ]
    },
    {
      "cell_type": "markdown",
      "metadata": {
        "id": "Aea9_Dm_uvpK"
      },
      "source": [
        "**Concantenate arrays**"
      ]
    },
    {
      "cell_type": "code",
      "metadata": {
        "colab": {
          "base_uri": "https://localhost:8080/"
        },
        "id": "hTeCNH60uziG",
        "outputId": "7a2d330c-80cf-4091-ac0d-edc3ad30670c"
      },
      "source": [
        "a = np.array([[1, 2], [3, 4]])\n",
        "b = np.array([[5, 6]])\n",
        "\n",
        "np.concatenate((a, b), axis=0)"
      ],
      "execution_count": 94,
      "outputs": [
        {
          "output_type": "execute_result",
          "data": {
            "text/plain": [
              "array([[1, 2],\n",
              "       [3, 4],\n",
              "       [5, 6]])"
            ]
          },
          "metadata": {},
          "execution_count": 94
        }
      ]
    },
    {
      "cell_type": "code",
      "metadata": {
        "colab": {
          "base_uri": "https://localhost:8080/"
        },
        "id": "JsCmLu9GzOoX",
        "outputId": "5d11adce-848c-4d83-f53e-07407396dce8"
      },
      "source": [
        "np.concatenate((a, b.T), axis=1)"
      ],
      "execution_count": 95,
      "outputs": [
        {
          "output_type": "execute_result",
          "data": {
            "text/plain": [
              "array([[1, 2, 5],\n",
              "       [3, 4, 6]])"
            ]
          },
          "metadata": {},
          "execution_count": 95
        }
      ]
    },
    {
      "cell_type": "code",
      "metadata": {
        "colab": {
          "base_uri": "https://localhost:8080/"
        },
        "id": "kZnYMJcqzQV9",
        "outputId": "7295b21e-5173-4fbe-9c04-1bf853f8bf08"
      },
      "source": [
        "np.concatenate((a, b), axis=None)"
      ],
      "execution_count": 97,
      "outputs": [
        {
          "output_type": "execute_result",
          "data": {
            "text/plain": [
              "array([1, 2, 3, 4, 5, 6])"
            ]
          },
          "metadata": {},
          "execution_count": 97
        }
      ]
    },
    {
      "cell_type": "markdown",
      "metadata": {
        "id": "a4xIaYn94LaI"
      },
      "source": [
        "**Stack arrays vertically (row-wise)**"
      ]
    },
    {
      "cell_type": "code",
      "metadata": {
        "colab": {
          "base_uri": "https://localhost:8080/"
        },
        "id": "OL86aE0q4YSc",
        "outputId": "822f79d9-075f-486b-c585-6a166ae5a69c"
      },
      "source": [
        "a = np.array([1, 2])\n",
        "b = np.array([5, 6])\n",
        "\n",
        "np.vstack((a,b))"
      ],
      "execution_count": 99,
      "outputs": [
        {
          "output_type": "execute_result",
          "data": {
            "text/plain": [
              "array([[1, 2],\n",
              "       [5, 6]])"
            ]
          },
          "metadata": {},
          "execution_count": 99
        }
      ]
    },
    {
      "cell_type": "markdown",
      "metadata": {
        "id": "rmRzNcs_4qqX"
      },
      "source": [
        "**Stack arrays vertically (row-wise)**"
      ]
    },
    {
      "cell_type": "code",
      "metadata": {
        "colab": {
          "base_uri": "https://localhost:8080/"
        },
        "id": "TvEM8vzT4wHe",
        "outputId": "dc7df159-5b85-4278-fab4-0e79aa26ca21"
      },
      "source": [
        "a = np.array([1, 2])\n",
        "b = np.array([5, 6])\n",
        "\n",
        "np.r_[a,b]"
      ],
      "execution_count": 101,
      "outputs": [
        {
          "output_type": "execute_result",
          "data": {
            "text/plain": [
              "array([1, 2, 5, 6])"
            ]
          },
          "metadata": {},
          "execution_count": 101
        }
      ]
    },
    {
      "cell_type": "markdown",
      "metadata": {
        "id": "oeTMryqR4_nB"
      },
      "source": [
        "**Stack arrays horizontally (column-wise)**"
      ]
    },
    {
      "cell_type": "code",
      "metadata": {
        "colab": {
          "base_uri": "https://localhost:8080/"
        },
        "id": "e2yBtkvI5DLH",
        "outputId": "5ff40b1d-3305-453b-ff4c-0e0c487c0d0b"
      },
      "source": [
        "a = np.array([1, 2])\n",
        "b = np.array([5, 6])\n",
        "\n",
        "np.hstack((a,b))"
      ],
      "execution_count": 102,
      "outputs": [
        {
          "output_type": "execute_result",
          "data": {
            "text/plain": [
              "array([1, 2, 5, 6])"
            ]
          },
          "metadata": {},
          "execution_count": 102
        }
      ]
    },
    {
      "cell_type": "markdown",
      "metadata": {
        "id": "_3GFOW8J5YR8"
      },
      "source": [
        "**Create stacked column-wise arrays**"
      ]
    },
    {
      "cell_type": "code",
      "metadata": {
        "colab": {
          "base_uri": "https://localhost:8080/"
        },
        "id": "bwOJCCR157F1",
        "outputId": "00600459-be74-4a92-92a6-cf8d7c38491f"
      },
      "source": [
        "a = np.array([1, 2])\n",
        "b = np.array([5, 6])\n",
        "\n",
        "np.column_stack((a,b))"
      ],
      "execution_count": 103,
      "outputs": [
        {
          "output_type": "execute_result",
          "data": {
            "text/plain": [
              "array([[1, 5],\n",
              "       [2, 6]])"
            ]
          },
          "metadata": {},
          "execution_count": 103
        }
      ]
    },
    {
      "cell_type": "markdown",
      "metadata": {
        "id": "e5UrTtSe6BzD"
      },
      "source": [
        "**Create stacked column-wise arrays**"
      ]
    },
    {
      "cell_type": "code",
      "metadata": {
        "colab": {
          "base_uri": "https://localhost:8080/"
        },
        "id": "sLhEKbsR6FMT",
        "outputId": "d6680e70-129b-44cd-a11f-9ca00903d6db"
      },
      "source": [
        "a = np.array([1, 2])\n",
        "b = np.array([5, 6])\n",
        "\n",
        "np.c_[a,b]"
      ],
      "execution_count": 104,
      "outputs": [
        {
          "output_type": "execute_result",
          "data": {
            "text/plain": [
              "array([[1, 5],\n",
              "       [2, 6]])"
            ]
          },
          "metadata": {},
          "execution_count": 104
        }
      ]
    },
    {
      "cell_type": "markdown",
      "metadata": {
        "id": "rR5UxCLM6JRW"
      },
      "source": [
        "##Splitting Arrays"
      ]
    },
    {
      "cell_type": "markdown",
      "metadata": {
        "id": "UV3Bs3KB6igT"
      },
      "source": [
        "**Split the array horizontally at the 3rd index**"
      ]
    },
    {
      "cell_type": "code",
      "metadata": {
        "colab": {
          "base_uri": "https://localhost:8080/"
        },
        "id": "9-L8PFli6q_h",
        "outputId": "95a2ab59-e63b-4b0b-c761-c31b6c925798"
      },
      "source": [
        "a =np.array([[2, 2, 2, 2, 2],  \n",
        "       [15, 6, 27, 8, 2], \n",
        "       [23, 2, 54, 1, 2, ], \n",
        "       [11, 44, 34, 7, 2]] )\n",
        "\n",
        "np.hsplit(a,5)"
      ],
      "execution_count": 112,
      "outputs": [
        {
          "output_type": "execute_result",
          "data": {
            "text/plain": [
              "[array([[ 2],\n",
              "        [15],\n",
              "        [23],\n",
              "        [11]]), array([[ 2],\n",
              "        [ 6],\n",
              "        [ 2],\n",
              "        [44]]), array([[ 2],\n",
              "        [27],\n",
              "        [54],\n",
              "        [34]]), array([[2],\n",
              "        [8],\n",
              "        [1],\n",
              "        [7]]), array([[2],\n",
              "        [2],\n",
              "        [2],\n",
              "        [2]])]"
            ]
          },
          "metadata": {},
          "execution_count": 112
        }
      ]
    },
    {
      "cell_type": "markdown",
      "metadata": {
        "id": "xzGCxvk08FtR"
      },
      "source": [
        "**Split the array vertically at the 2nd index**"
      ]
    },
    {
      "cell_type": "code",
      "metadata": {
        "colab": {
          "base_uri": "https://localhost:8080/"
        },
        "id": "pel7THvK8JpX",
        "outputId": "cc1c5ad6-8607-47a0-f33c-33a064a7564e"
      },
      "source": [
        "a =np.array([[2, 2, 2, 2, 2],  \n",
        "       [15, 6, 27, 8, 2], \n",
        "       [23, 2, 54, 1, 2, ], \n",
        "       [11, 44, 34, 7, 2]] )\n",
        "\n",
        "np.vsplit(a,2)"
      ],
      "execution_count": 115,
      "outputs": [
        {
          "output_type": "execute_result",
          "data": {
            "text/plain": [
              "[array([[ 2,  2,  2,  2,  2],\n",
              "        [15,  6, 27,  8,  2]]), array([[23,  2, 54,  1,  2],\n",
              "        [11, 44, 34,  7,  2]])]"
            ]
          },
          "metadata": {},
          "execution_count": 115
        }
      ]
    }
  ]
}